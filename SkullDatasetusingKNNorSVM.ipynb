{
 "cells": [
  {
   "cell_type": "code",
   "execution_count": 1,
   "metadata": {
    "collapsed": false
   },
   "outputs": [],
   "source": [
    "import numpy as np\n",
    "import pandas as pd"
   ]
  },
  {
   "cell_type": "markdown",
   "metadata": {},
   "source": [
    "## The attributes of the data are as follows: \n",
    "\n",
    "<img src = \"https://ibm.box.com/shared/static/02z8krlr99hwrqa2ecx3ycuiwqkcuzjv.png\", align = 'left'>\n",
    "\n",
    "<br><br><br><br><br><br><br><br><br><br><br><br><br><br><br><br>\n",
    "\n",
    "<b>epoch</b> - The epoch the skull as assigned to, a factor with levels c4000BC c3300BC, c1850BC, c200BC, and cAD150, where the years are only given approximately.\n",
    "\n",
    "<b>mb</b> - Maximal Breadth of the skull.\n",
    "\n",
    "<b>bh</b> - Basiregmatic Heights of the skull.\n",
    "\n",
    "<b>bl</b> - Basilveolar Length of the skull.\n",
    "\n",
    "<b>nh</b> - Nasal Heights of the skull.\n",
    "\n",
    "---"
   ]
  },
  {
   "cell_type": "code",
   "execution_count": 2,
   "metadata": {
    "collapsed": false
   },
   "outputs": [
    {
     "name": "stdout",
     "output_type": "stream",
     "text": [
      "     Unnamed: 0    epoch   mb   bh   bl  nh\n",
      "0             1  c4000BC  131  138   89  49\n",
      "1             2  c4000BC  125  131   92  48\n",
      "2             3  c4000BC  131  132   99  50\n",
      "3             4  c4000BC  119  132   96  44\n",
      "4             5  c4000BC  136  143  100  54\n",
      "5             6  c4000BC  138  137   89  56\n",
      "6             7  c4000BC  139  130  108  48\n",
      "7             8  c4000BC  125  136   93  48\n",
      "8             9  c4000BC  131  134  102  51\n",
      "9            10  c4000BC  134  134   99  51\n",
      "10           11  c4000BC  129  138   95  50\n",
      "11           12  c4000BC  134  121   95  53\n",
      "12           13  c4000BC  126  129  109  51\n",
      "13           14  c4000BC  132  136  100  50\n",
      "14           15  c4000BC  141  140  100  51\n",
      "15           16  c4000BC  131  134   97  54\n",
      "16           17  c4000BC  135  137  103  50\n",
      "17           18  c4000BC  132  133   93  53\n",
      "18           19  c4000BC  139  136   96  50\n",
      "19           20  c4000BC  132  131  101  49\n",
      "20           21  c4000BC  126  133  102  51\n",
      "21           22  c4000BC  135  135  103  47\n",
      "22           23  c4000BC  134  124   93  53\n",
      "23           24  c4000BC  128  134  103  50\n",
      "24           25  c4000BC  130  130  104  49\n",
      "25           26  c4000BC  138  135  100  55\n",
      "26           27  c4000BC  128  132   93  53\n",
      "27           28  c4000BC  127  129  106  48\n",
      "28           29  c4000BC  131  136  114  54\n",
      "29           30  c4000BC  124  138  101  46\n",
      "..          ...      ...  ...  ...  ...  ..\n",
      "120         121   cAD150  137  123   91  50\n",
      "121         122   cAD150  136  131   95  49\n",
      "122         123   cAD150  128  126   91  57\n",
      "123         124   cAD150  130  134   92  52\n",
      "124         125   cAD150  138  127   86  47\n",
      "125         126   cAD150  126  138  101  52\n",
      "126         127   cAD150  136  138   97  58\n",
      "127         128   cAD150  126  126   92  45\n",
      "128         129   cAD150  132  132   99  55\n",
      "129         130   cAD150  139  135   92  54\n",
      "130         131   cAD150  143  120   95  51\n",
      "131         132   cAD150  141  136  101  54\n",
      "132         133   cAD150  135  135   95  56\n",
      "133         134   cAD150  137  134   93  53\n",
      "134         135   cAD150  142  135   96  52\n",
      "135         136   cAD150  139  134   95  47\n",
      "136         137   cAD150  138  125   99  51\n",
      "137         138   cAD150  137  135   96  54\n",
      "138         139   cAD150  133  125   92  50\n",
      "139         140   cAD150  145  129   89  47\n",
      "140         141   cAD150  138  136   92  46\n",
      "141         142   cAD150  131  129   97  44\n",
      "142         143   cAD150  143  126   88  54\n",
      "143         144   cAD150  134  124   91  55\n",
      "144         145   cAD150  132  127   97  52\n",
      "145         146   cAD150  137  125   85  57\n",
      "146         147   cAD150  129  128   81  52\n",
      "147         148   cAD150  140  135  103  48\n",
      "148         149   cAD150  147  129   87  48\n",
      "149         150   cAD150  136  133   97  51\n",
      "\n",
      "[150 rows x 6 columns]\n"
     ]
    }
   ],
   "source": [
    "skull_data=pd.read_csv('skulls.csv',',')\n",
    "print skull_data"
   ]
  },
  {
   "cell_type": "code",
   "execution_count": 4,
   "metadata": {
    "collapsed": false
   },
   "outputs": [
    {
     "name": "stdout",
     "output_type": "stream",
     "text": [
      "data type: <class 'pandas.core.frame.DataFrame'>\n"
     ]
    }
   ],
   "source": [
    "print \"data type:\",type(skull_data)"
   ]
  },
  {
   "cell_type": "code",
   "execution_count": 6,
   "metadata": {
    "collapsed": false
   },
   "outputs": [
    {
     "name": "stdout",
     "output_type": "stream",
     "text": [
      "[[1 'c4000BC' 131 138 89 49]\n",
      " [2 'c4000BC' 125 131 92 48]\n",
      " [3 'c4000BC' 131 132 99 50]\n",
      " [4 'c4000BC' 119 132 96 44]\n",
      " [5 'c4000BC' 136 143 100 54]\n",
      " [6 'c4000BC' 138 137 89 56]\n",
      " [7 'c4000BC' 139 130 108 48]\n",
      " [8 'c4000BC' 125 136 93 48]\n",
      " [9 'c4000BC' 131 134 102 51]\n",
      " [10 'c4000BC' 134 134 99 51]\n",
      " [11 'c4000BC' 129 138 95 50]\n",
      " [12 'c4000BC' 134 121 95 53]\n",
      " [13 'c4000BC' 126 129 109 51]\n",
      " [14 'c4000BC' 132 136 100 50]\n",
      " [15 'c4000BC' 141 140 100 51]\n",
      " [16 'c4000BC' 131 134 97 54]\n",
      " [17 'c4000BC' 135 137 103 50]\n",
      " [18 'c4000BC' 132 133 93 53]\n",
      " [19 'c4000BC' 139 136 96 50]\n",
      " [20 'c4000BC' 132 131 101 49]\n",
      " [21 'c4000BC' 126 133 102 51]\n",
      " [22 'c4000BC' 135 135 103 47]\n",
      " [23 'c4000BC' 134 124 93 53]\n",
      " [24 'c4000BC' 128 134 103 50]\n",
      " [25 'c4000BC' 130 130 104 49]\n",
      " [26 'c4000BC' 138 135 100 55]\n",
      " [27 'c4000BC' 128 132 93 53]\n",
      " [28 'c4000BC' 127 129 106 48]\n",
      " [29 'c4000BC' 131 136 114 54]\n",
      " [30 'c4000BC' 124 138 101 46]\n",
      " [31 'c3300BC' 124 138 101 48]\n",
      " [32 'c3300BC' 133 134 97 48]\n",
      " [33 'c3300BC' 138 134 98 45]\n",
      " [34 'c3300BC' 148 129 104 51]\n",
      " [35 'c3300BC' 126 124 95 45]\n",
      " [36 'c3300BC' 135 136 98 52]\n",
      " [37 'c3300BC' 132 145 100 54]\n",
      " [38 'c3300BC' 133 130 102 48]\n",
      " [39 'c3300BC' 131 134 96 50]\n",
      " [40 'c3300BC' 133 125 94 46]\n",
      " [41 'c3300BC' 133 136 103 53]\n",
      " [42 'c3300BC' 131 139 98 51]\n",
      " [43 'c3300BC' 131 136 99 56]\n",
      " [44 'c3300BC' 138 134 98 49]\n",
      " [45 'c3300BC' 130 136 104 53]\n",
      " [46 'c3300BC' 131 128 98 45]\n",
      " [47 'c3300BC' 138 129 107 53]\n",
      " [48 'c3300BC' 123 131 101 51]\n",
      " [49 'c3300BC' 130 129 105 47]\n",
      " [50 'c3300BC' 134 130 93 54]\n",
      " [51 'c3300BC' 137 136 106 49]\n",
      " [52 'c3300BC' 126 131 100 48]\n",
      " [53 'c3300BC' 135 136 97 52]\n",
      " [54 'c3300BC' 129 126 91 50]\n",
      " [55 'c3300BC' 134 139 101 49]\n",
      " [56 'c3300BC' 131 134 90 53]\n",
      " [57 'c3300BC' 132 130 104 50]\n",
      " [58 'c3300BC' 130 132 93 52]\n",
      " [59 'c3300BC' 135 132 98 54]\n",
      " [60 'c3300BC' 130 128 101 51]\n",
      " [61 'c1850BC' 137 141 96 52]\n",
      " [62 'c1850BC' 129 133 93 47]\n",
      " [63 'c1850BC' 132 138 87 48]\n",
      " [64 'c1850BC' 130 134 106 50]\n",
      " [65 'c1850BC' 134 134 96 45]\n",
      " [66 'c1850BC' 140 133 98 50]\n",
      " [67 'c1850BC' 138 138 95 47]\n",
      " [68 'c1850BC' 136 145 99 55]\n",
      " [69 'c1850BC' 136 131 92 46]\n",
      " [70 'c1850BC' 126 136 95 56]\n",
      " [71 'c1850BC' 137 129 100 53]\n",
      " [72 'c1850BC' 137 139 97 50]\n",
      " [73 'c1850BC' 136 126 101 50]\n",
      " [74 'c1850BC' 137 133 90 49]\n",
      " [75 'c1850BC' 129 142 104 47]\n",
      " [76 'c1850BC' 135 138 102 55]\n",
      " [77 'c1850BC' 129 135 92 50]\n",
      " [78 'c1850BC' 134 125 90 60]\n",
      " [79 'c1850BC' 138 134 96 51]\n",
      " [80 'c1850BC' 136 135 94 53]\n",
      " [81 'c1850BC' 132 130 91 52]\n",
      " [82 'c1850BC' 133 131 100 50]\n",
      " [83 'c1850BC' 138 137 94 51]\n",
      " [84 'c1850BC' 130 127 99 45]\n",
      " [85 'c1850BC' 136 133 91 49]\n",
      " [86 'c1850BC' 134 123 95 52]\n",
      " [87 'c1850BC' 136 137 101 54]\n",
      " [88 'c1850BC' 133 131 96 49]\n",
      " [89 'c1850BC' 138 133 100 55]\n",
      " [90 'c1850BC' 138 133 91 46]\n",
      " [91 'c200BC' 137 134 107 54]\n",
      " [92 'c200BC' 141 128 95 53]\n",
      " [93 'c200BC' 141 130 87 49]\n",
      " [94 'c200BC' 135 131 99 51]\n",
      " [95 'c200BC' 133 120 91 46]\n",
      " [96 'c200BC' 131 135 90 50]\n",
      " [97 'c200BC' 140 137 94 60]\n",
      " [98 'c200BC' 139 130 90 48]\n",
      " [99 'c200BC' 140 134 90 51]\n",
      " [100 'c200BC' 138 140 100 52]\n",
      " [101 'c200BC' 132 133 90 53]\n",
      " [102 'c200BC' 134 134 97 54]\n",
      " [103 'c200BC' 135 135 99 50]\n",
      " [104 'c200BC' 133 136 95 52]\n",
      " [105 'c200BC' 136 130 99 55]\n",
      " [106 'c200BC' 134 137 93 52]\n",
      " [107 'c200BC' 131 141 99 55]\n",
      " [108 'c200BC' 129 135 95 47]\n",
      " [109 'c200BC' 136 128 93 54]\n",
      " [110 'c200BC' 131 125 88 48]\n",
      " [111 'c200BC' 139 130 94 53]\n",
      " [112 'c200BC' 144 124 86 50]\n",
      " [113 'c200BC' 141 131 97 53]\n",
      " [114 'c200BC' 130 131 98 53]\n",
      " [115 'c200BC' 133 128 92 51]\n",
      " [116 'c200BC' 138 126 97 54]\n",
      " [117 'c200BC' 131 142 95 53]\n",
      " [118 'c200BC' 136 138 94 55]\n",
      " [119 'c200BC' 132 136 92 52]\n",
      " [120 'c200BC' 135 130 100 51]\n",
      " [121 'cAD150' 137 123 91 50]\n",
      " [122 'cAD150' 136 131 95 49]\n",
      " [123 'cAD150' 128 126 91 57]\n",
      " [124 'cAD150' 130 134 92 52]\n",
      " [125 'cAD150' 138 127 86 47]\n",
      " [126 'cAD150' 126 138 101 52]\n",
      " [127 'cAD150' 136 138 97 58]\n",
      " [128 'cAD150' 126 126 92 45]\n",
      " [129 'cAD150' 132 132 99 55]\n",
      " [130 'cAD150' 139 135 92 54]\n",
      " [131 'cAD150' 143 120 95 51]\n",
      " [132 'cAD150' 141 136 101 54]\n",
      " [133 'cAD150' 135 135 95 56]\n",
      " [134 'cAD150' 137 134 93 53]\n",
      " [135 'cAD150' 142 135 96 52]\n",
      " [136 'cAD150' 139 134 95 47]\n",
      " [137 'cAD150' 138 125 99 51]\n",
      " [138 'cAD150' 137 135 96 54]\n",
      " [139 'cAD150' 133 125 92 50]\n",
      " [140 'cAD150' 145 129 89 47]\n",
      " [141 'cAD150' 138 136 92 46]\n",
      " [142 'cAD150' 131 129 97 44]\n",
      " [143 'cAD150' 143 126 88 54]\n",
      " [144 'cAD150' 134 124 91 55]\n",
      " [145 'cAD150' 132 127 97 52]\n",
      " [146 'cAD150' 137 125 85 57]\n",
      " [147 'cAD150' 129 128 81 52]\n",
      " [148 'cAD150' 140 135 103 48]\n",
      " [149 'cAD150' 147 129 87 48]\n",
      " [150 'cAD150' 136 133 97 51]]\n"
     ]
    }
   ],
   "source": [
    "print skull_data.values"
   ]
  },
  {
   "cell_type": "code",
   "execution_count": 10,
   "metadata": {
    "collapsed": false
   },
   "outputs": [
    {
     "name": "stdout",
     "output_type": "stream",
     "text": [
      "Index([u'Unnamed: 0', u'epoch', u'mb', u'bh', u'bl', u'nh'], dtype='object')\n",
      "Dimensions: (150, 6)\n"
     ]
    }
   ],
   "source": [
    "print skull_data.columns\n",
    "print \"Dimensions:\",skull_data.shape"
   ]
  },
  {
   "cell_type": "code",
   "execution_count": 24,
   "metadata": {
    "collapsed": false
   },
   "outputs": [
    {
     "name": "stdout",
     "output_type": "stream",
     "text": [
      "<class 'pandas.core.frame.DataFrame'>\n",
      "       epoch   mb   bh   bl  nh\n",
      "0    c4000BC  131  138   89  49\n",
      "1    c4000BC  125  131   92  48\n",
      "2    c4000BC  131  132   99  50\n",
      "3    c4000BC  119  132   96  44\n",
      "4    c4000BC  136  143  100  54\n",
      "5    c4000BC  138  137   89  56\n",
      "6    c4000BC  139  130  108  48\n",
      "7    c4000BC  125  136   93  48\n",
      "8    c4000BC  131  134  102  51\n",
      "9    c4000BC  134  134   99  51\n",
      "10   c4000BC  129  138   95  50\n",
      "11   c4000BC  134  121   95  53\n",
      "12   c4000BC  126  129  109  51\n",
      "13   c4000BC  132  136  100  50\n",
      "14   c4000BC  141  140  100  51\n",
      "15   c4000BC  131  134   97  54\n",
      "16   c4000BC  135  137  103  50\n",
      "17   c4000BC  132  133   93  53\n",
      "18   c4000BC  139  136   96  50\n",
      "19   c4000BC  132  131  101  49\n",
      "20   c4000BC  126  133  102  51\n",
      "21   c4000BC  135  135  103  47\n",
      "22   c4000BC  134  124   93  53\n",
      "23   c4000BC  128  134  103  50\n",
      "24   c4000BC  130  130  104  49\n",
      "25   c4000BC  138  135  100  55\n",
      "26   c4000BC  128  132   93  53\n",
      "27   c4000BC  127  129  106  48\n",
      "28   c4000BC  131  136  114  54\n",
      "29   c4000BC  124  138  101  46\n",
      "..       ...  ...  ...  ...  ..\n",
      "120   cAD150  137  123   91  50\n",
      "121   cAD150  136  131   95  49\n",
      "122   cAD150  128  126   91  57\n",
      "123   cAD150  130  134   92  52\n",
      "124   cAD150  138  127   86  47\n",
      "125   cAD150  126  138  101  52\n",
      "126   cAD150  136  138   97  58\n",
      "127   cAD150  126  126   92  45\n",
      "128   cAD150  132  132   99  55\n",
      "129   cAD150  139  135   92  54\n",
      "130   cAD150  143  120   95  51\n",
      "131   cAD150  141  136  101  54\n",
      "132   cAD150  135  135   95  56\n",
      "133   cAD150  137  134   93  53\n",
      "134   cAD150  142  135   96  52\n",
      "135   cAD150  139  134   95  47\n",
      "136   cAD150  138  125   99  51\n",
      "137   cAD150  137  135   96  54\n",
      "138   cAD150  133  125   92  50\n",
      "139   cAD150  145  129   89  47\n",
      "140   cAD150  138  136   92  46\n",
      "141   cAD150  131  129   97  44\n",
      "142   cAD150  143  126   88  54\n",
      "143   cAD150  134  124   91  55\n",
      "144   cAD150  132  127   97  52\n",
      "145   cAD150  137  125   85  57\n",
      "146   cAD150  129  128   81  52\n",
      "147   cAD150  140  135  103  48\n",
      "148   cAD150  147  129   87  48\n",
      "149   cAD150  136  133   97  51\n",
      "\n",
      "[150 rows x 5 columns]\n"
     ]
    }
   ],
   "source": [
    "##removing row numbers and converting year to some numbers\n",
    "new_data=skull_data.drop(skull_data.columns[[0]], axis=1)\n",
    "print type(new_data)\n",
    "print new_data"
   ]
  },
  {
   "cell_type": "code",
   "execution_count": 47,
   "metadata": {
    "collapsed": false
   },
   "outputs": [],
   "source": [
    "from sklearn.preprocessing import LabelEncoder\n",
    "lb=LabelEncoder()\n",
    "labeled=new_data.copy()\n",
    "labeled['epoch']=lb.fit_transform(labeled['epoch'])\n",
    "\n",
    "#print labeled.values\n",
    "\n",
    "#labeled['epoch']=lb.inverse_transform(labeled['epoch'])\n",
    "#print labeled.values\n",
    "train_y=np.asarray(labeled['epoch'])\n",
    "train_x=labeled.drop(labeled.columns[[1]],1).values\n",
    "\n",
    "#print train_x\n",
    "#print train_y"
   ]
  },
  {
   "cell_type": "code",
   "execution_count": 98,
   "metadata": {
    "collapsed": false
   },
   "outputs": [
    {
     "name": "stdout",
     "output_type": "stream",
     "text": [
      "accuracy: 46.6666666667\n"
     ]
    }
   ],
   "source": [
    "from sklearn.model_selection import cross_val_score\n",
    "from sklearn.neighbors import KNeighborsClassifier\n",
    "clf = KNeighborsClassifier(n_neighbors=1)\n",
    "scores = cross_val_score(clf,train_x,train_y, cv=5)\n",
    "\n",
    "print \"accuracy:\",scores.mean()*100"
   ]
  },
  {
   "cell_type": "code",
   "execution_count": 109,
   "metadata": {
    "collapsed": false
   },
   "outputs": [
    {
     "name": "stdout",
     "output_type": "stream",
     "text": [
      "135.0\n",
      "prediction accuracy: 0.466666666667\n",
      "[3] 3\n",
      "[4] 4\n",
      "[3] 4\n"
     ]
    },
    {
     "name": "stderr",
     "output_type": "stream",
     "text": [
      "/home/siddharth/miniconda2/lib/python2.7/site-packages/ipykernel/__main__.py:5: VisibleDeprecationWarning: using a non-integer number instead of an integer will result in an error in the future\n",
      "/home/siddharth/miniconda2/lib/python2.7/site-packages/ipykernel/__main__.py:6: VisibleDeprecationWarning: using a non-integer number instead of an integer will result in an error in the future\n",
      "/home/siddharth/miniconda2/lib/python2.7/site-packages/sklearn/utils/validation.py:395: DeprecationWarning: Passing 1d arrays as data is deprecated in 0.17 and will raise ValueError in 0.19. Reshape your data either using X.reshape(-1, 1) if your data has a single feature or X.reshape(1, -1) if it contains a single sample.\n",
      "  DeprecationWarning)\n",
      "/home/siddharth/miniconda2/lib/python2.7/site-packages/sklearn/utils/validation.py:395: DeprecationWarning: Passing 1d arrays as data is deprecated in 0.17 and will raise ValueError in 0.19. Reshape your data either using X.reshape(-1, 1) if your data has a single feature or X.reshape(1, -1) if it contains a single sample.\n",
      "  DeprecationWarning)\n",
      "/home/siddharth/miniconda2/lib/python2.7/site-packages/sklearn/utils/validation.py:395: DeprecationWarning: Passing 1d arrays as data is deprecated in 0.17 and will raise ValueError in 0.19. Reshape your data either using X.reshape(-1, 1) if your data has a single feature or X.reshape(1, -1) if it contains a single sample.\n",
      "  DeprecationWarning)\n"
     ]
    }
   ],
   "source": [
    "##trial 2 training with more data\n",
    "clf=KNeighborsClassifier(n_neighbors=1)\n",
    "window=round(0.9*len(train_x))\n",
    "print window\n",
    "clf.fit(train_x[:window],train_y[:window])\n",
    "print \"prediction accuracy:\",clf.score(train_x[window:],train_y[window:])\n",
    "\n",
    "\n",
    "print clf.predict(train_x[10]),train_y[10]\n",
    "print clf.predict(train_x[149]),train_y[149]\n",
    "print clf.predict(train_x[137]),train_y[137]"
   ]
  },
  {
   "cell_type": "markdown",
   "metadata": {},
   "source": [
    "<h1>no improvement :X .Not a good idea to use <h1>"
   ]
  },
  {
   "cell_type": "code",
   "execution_count": 119,
   "metadata": {
    "collapsed": false
   },
   "outputs": [
    {
     "name": "stdout",
     "output_type": "stream",
     "text": [
      "62.5925925926\n"
     ]
    }
   ],
   "source": [
    " from sklearn import svm\n",
    "#gamma and c are choosen by trial and error\n",
    "clf = svm.SVC(gamma=0.05, C=5)\n",
    "scores = cross_val_score(clf,train_x,train_y, cv=27)\n",
    "print scores.mean()*100"
   ]
  },
  {
   "cell_type": "code",
   "execution_count": 128,
   "metadata": {
    "collapsed": false
   },
   "outputs": [
    {
     "name": "stdout",
     "output_type": "stream",
     "text": [
      "[3] 3\n",
      "[4] 4\n",
      "[4] 4\n"
     ]
    },
    {
     "name": "stderr",
     "output_type": "stream",
     "text": [
      "/home/siddharth/miniconda2/lib/python2.7/site-packages/ipykernel/__main__.py:1: VisibleDeprecationWarning: using a non-integer number instead of an integer will result in an error in the future\n",
      "  if __name__ == '__main__':\n",
      "/home/siddharth/miniconda2/lib/python2.7/site-packages/sklearn/utils/validation.py:395: DeprecationWarning: Passing 1d arrays as data is deprecated in 0.17 and will raise ValueError in 0.19. Reshape your data either using X.reshape(-1, 1) if your data has a single feature or X.reshape(1, -1) if it contains a single sample.\n",
      "  DeprecationWarning)\n",
      "/home/siddharth/miniconda2/lib/python2.7/site-packages/sklearn/utils/validation.py:395: DeprecationWarning: Passing 1d arrays as data is deprecated in 0.17 and will raise ValueError in 0.19. Reshape your data either using X.reshape(-1, 1) if your data has a single feature or X.reshape(1, -1) if it contains a single sample.\n",
      "  DeprecationWarning)\n",
      "/home/siddharth/miniconda2/lib/python2.7/site-packages/sklearn/utils/validation.py:395: DeprecationWarning: Passing 1d arrays as data is deprecated in 0.17 and will raise ValueError in 0.19. Reshape your data either using X.reshape(-1, 1) if your data has a single feature or X.reshape(1, -1) if it contains a single sample.\n",
      "  DeprecationWarning)\n"
     ]
    }
   ],
   "source": [
    "clf.fit(train_x[:window],train_y[:window])\n",
    "\n",
    "print clf.predict(train_x[10]),train_y[10]\n",
    "print clf.predict(train_x[149]),train_y[149]\n",
    "print clf.predict(train_x[137]),train_y[137]"
   ]
  },
  {
   "cell_type": "markdown",
   "metadata": {},
   "source": [
    "<h1>Still not upto the mark but better than KNN</h1>"
   ]
  }
 ],
 "metadata": {
  "kernelspec": {
   "display_name": "Python 2",
   "language": "python",
   "name": "python2"
  },
  "language_info": {
   "codemirror_mode": {
    "name": "ipython",
    "version": 2
   },
   "file_extension": ".py",
   "mimetype": "text/x-python",
   "name": "python",
   "nbconvert_exporter": "python",
   "pygments_lexer": "ipython2",
   "version": "2.7.13"
  }
 },
 "nbformat": 4,
 "nbformat_minor": 2
}
